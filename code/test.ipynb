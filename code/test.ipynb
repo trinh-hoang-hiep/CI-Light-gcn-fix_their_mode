{
 "cells": [
  {
   "cell_type": "code",
   "execution_count": 2,
   "metadata": {},
   "outputs": [],
   "source": [
    "import numpy as np\n",
    "import torch"
   ]
  },
  {
   "cell_type": "code",
   "execution_count": 17,
   "metadata": {},
   "outputs": [
    {
     "name": "stdout",
     "output_type": "stream",
     "text": [
      "torch.Size([29858, 64])\n",
      "torch.Size([29858, 64])\n",
      "torch.Size([29858, 64])\n",
      "torch.Size([29858, 64])\n",
      "torch.Size([29858, 64])\n",
      "torch.Size([29858, 64])\n",
      "torch.Size([29858, 64])\n",
      "torch.Size([29858, 64])\n",
      "torch.Size([29858, 64])\n",
      "torch.Size([29858, 64])\n"
     ]
    }
   ],
   "source": [
    "for i in range(30,40):\n",
    "  a = torch.load(f\"/home2/anhdtd/LightGCN-PyTorch/CI/save_for_inference/gowalla/Embeddings_at_stage_{i}.pth.tar\")\n",
    "  print(a['embedding_user'][0].shape)"
   ]
  },
  {
   "cell_type": "code",
   "execution_count": 6,
   "metadata": {},
   "outputs": [
    {
     "data": {
      "text/plain": [
       "odict_keys(['embedding_user', 'embedding_item'])"
      ]
     },
     "execution_count": 6,
     "metadata": {},
     "output_type": "execute_result"
    }
   ],
   "source": [
    "29858"
   ]
  },
  {
   "cell_type": "code",
   "execution_count": 12,
   "metadata": {},
   "outputs": [
    {
     "data": {
      "text/plain": [
       "torch.Size([29858, 64])"
      ]
     },
     "execution_count": 12,
     "metadata": {},
     "output_type": "execute_result"
    }
   ],
   "source": [
    "a['embedding_user'][0].shape"
   ]
  },
  {
   "cell_type": "code",
   "execution_count": null,
   "metadata": {},
   "outputs": [],
   "source": []
  }
 ],
 "metadata": {
  "interpreter": {
   "hash": "7a8f089be1ec2c758967459f1afdf55b35eb6e0e2fbd844ef1dd77fbbc1a1945"
  },
  "kernelspec": {
   "display_name": "Python 3.8.5 ('base')",
   "language": "python",
   "name": "python3"
  },
  "language_info": {
   "codemirror_mode": {
    "name": "ipython",
    "version": 3
   },
   "file_extension": ".py",
   "mimetype": "text/x-python",
   "name": "python",
   "nbconvert_exporter": "python",
   "pygments_lexer": "ipython3",
   "version": "3.8.5"
  },
  "orig_nbformat": 4
 },
 "nbformat": 4,
 "nbformat_minor": 2
}
